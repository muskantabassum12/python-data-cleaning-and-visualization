{
 "cells": [
  {
   "cell_type": "code",
   "execution_count": 1,
   "id": "b9135e23",
   "metadata": {
    "_cell_guid": "b1076dfc-b9ad-4769-8c92-a6c4dae69d19",
    "_uuid": "8f2839f25d086af736a60e9eeb907d3b93b6e0e5",
    "execution": {
     "iopub.execute_input": "2024-10-30T14:00:33.778828Z",
     "iopub.status.busy": "2024-10-30T14:00:33.778377Z",
     "iopub.status.idle": "2024-10-30T14:00:34.694098Z",
     "shell.execute_reply": "2024-10-30T14:00:34.692641Z"
    },
    "papermill": {
     "duration": 0.928,
     "end_time": "2024-10-30T14:00:34.696553",
     "exception": false,
     "start_time": "2024-10-30T14:00:33.768553",
     "status": "completed"
    },
    "tags": []
   },
   "outputs": [
    {
     "name": "stdout",
     "output_type": "stream",
     "text": [
      "/kaggle/input/fake-vat-data/Fake Data.xlsx\n"
     ]
    }
   ],
   "source": [
    "# This Python 3 environment comes with many helpful analytics libraries installed\n",
    "# It is defined by the kaggle/python Docker image: https://github.com/kaggle/docker-python\n",
    "# For example, here's several helpful packages to load\n",
    "\n",
    "import numpy as np # linear algebra\n",
    "import pandas as pd # data processing, CSV file I/O (e.g. pd.read_csv)\n",
    "\n",
    "# Input data files are available in the read-only \"../input/\" directory\n",
    "# For example, running this (by clicking run or pressing Shift+Enter) will list all files under the input directory\n",
    "\n",
    "import os\n",
    "for dirname, _, filenames in os.walk('/kaggle/input'):\n",
    "    for filename in filenames:\n",
    "        print(os.path.join(dirname, filename))\n",
    "\n",
    "# You can write up to 20GB to the current directory (/kaggle/working/) that gets preserved as output when you create a version using \"Save & Run All\" \n",
    "# You can also write temporary files to /kaggle/temp/, but they won't be saved outside of the current session"
   ]
  },
  {
   "cell_type": "code",
   "execution_count": 2,
   "id": "7730cbf6",
   "metadata": {
    "execution": {
     "iopub.execute_input": "2024-10-30T14:00:34.714316Z",
     "iopub.status.busy": "2024-10-30T14:00:34.713747Z",
     "iopub.status.idle": "2024-10-30T14:00:36.392067Z",
     "shell.execute_reply": "2024-10-30T14:00:36.391115Z"
    },
    "papermill": {
     "duration": 1.690097,
     "end_time": "2024-10-30T14:00:36.394635",
     "exception": false,
     "start_time": "2024-10-30T14:00:34.704538",
     "status": "completed"
    },
    "tags": []
   },
   "outputs": [],
   "source": [
    "import pandas as pd\n",
    "import numpy as np\n",
    "import matplotlib.pyplot as plt\n",
    "import seaborn as sns"
   ]
  },
  {
   "cell_type": "code",
   "execution_count": 3,
   "id": "7c4f30c4",
   "metadata": {
    "execution": {
     "iopub.execute_input": "2024-10-30T14:00:36.411971Z",
     "iopub.status.busy": "2024-10-30T14:00:36.411413Z",
     "iopub.status.idle": "2024-10-30T14:00:36.751982Z",
     "shell.execute_reply": "2024-10-30T14:00:36.750667Z"
    },
    "papermill": {
     "duration": 0.351857,
     "end_time": "2024-10-30T14:00:36.754433",
     "exception": false,
     "start_time": "2024-10-30T14:00:36.402576",
     "status": "completed"
    },
    "tags": []
   },
   "outputs": [
    {
     "name": "stdout",
     "output_type": "stream",
     "text": [
      "['Jan', 'Feb']\n"
     ]
    }
   ],
   "source": [
    "#reading excel file\n",
    "file_path = '/kaggle/input/fake-vat-data/Fake Data.xlsx'\n",
    "xls = pd.ExcelFile(file_path)\n",
    "\n",
    "#storing tab names in a list = sheetnames\n",
    "sheet_names = xls.sheet_names\n",
    "print(sheet_names)"
   ]
  },
  {
   "cell_type": "code",
   "execution_count": 4,
   "id": "3b7a1e8f",
   "metadata": {
    "execution": {
     "iopub.execute_input": "2024-10-30T14:00:36.772126Z",
     "iopub.status.busy": "2024-10-30T14:00:36.771551Z",
     "iopub.status.idle": "2024-10-30T14:00:38.234248Z",
     "shell.execute_reply": "2024-10-30T14:00:38.233019Z"
    },
    "papermill": {
     "duration": 1.474678,
     "end_time": "2024-10-30T14:00:38.237000",
     "exception": false,
     "start_time": "2024-10-30T14:00:36.762322",
     "status": "completed"
    },
    "tags": []
   },
   "outputs": [
    {
     "data": {
      "text/plain": [
       "{'Jan':   Supply Type  Invoice Number       Date Customer/supplier Name  \\\n",
       " 0           S           123.0 2024-01-01                    ABC   \n",
       " 1           S           456.0 2024-01-02                    DEF   \n",
       " 2           S           789.0 2024-01-02                    DEF   \n",
       " 3           S           123.0 2024-01-02                    ABC   \n",
       " 4           S          1011.0 2024-01-03                    GHI   \n",
       " \n",
       "    Supply/Purchase Value   VAT Value   Invoice Value Recoverable    Box  \n",
       " 0                    0.00        0.00           0.00           Y  Box A  \n",
       " 1                    0.00        0.00           0.00           Y  Box A  \n",
       " 2                    0.00        0.00           0.00           Y  Box A  \n",
       " 3               440984.04    22049.20      463033.24           Y  Box A  \n",
       " 4               576107.04    28805.35      604912.39           Y  Box A  ,\n",
       " 'Feb':   Report date: 2024-03-01 00:00:00           Unnamed: 2   Unnamed: 3  \\\n",
       " 0     Run by:             J Bloggs                  NaN          NaN   \n",
       " 1    Currency:                 AED                  NaN          NaN   \n",
       " 2          NaN                 NaN                  NaN          NaN   \n",
       " 3  Supply Type                   #                 Date  Recoverable   \n",
       " 4        Sales                 871  2024-02-01 00:00:00            Y   \n",
       " \n",
       "                Unnamed: 4 Unnamed: 5 Unnamed: 6 Unnamed: 7 Unnamed: 8  \n",
       " 0                     NaN        NaN        NaN        NaN        NaN  \n",
       " 1                     NaN        NaN        NaN        NaN        NaN  \n",
       " 2                     NaN        NaN        NaN        NaN        NaN  \n",
       " 3  Customer/supplier Name        Net      Gross        Tax        Box  \n",
       " 4                     QAZ      35992      35992          0      Box A  }"
      ]
     },
     "execution_count": 4,
     "metadata": {},
     "output_type": "execute_result"
    }
   ],
   "source": [
    "#reading tab sheets data\n",
    "sheet_previews = {name: xls.parse(name).head() for name in sheet_names}\n",
    "sheet_previews\n"
   ]
  },
  {
   "cell_type": "code",
   "execution_count": 5,
   "id": "80808d16",
   "metadata": {
    "execution": {
     "iopub.execute_input": "2024-10-30T14:00:38.255575Z",
     "iopub.status.busy": "2024-10-30T14:00:38.255178Z",
     "iopub.status.idle": "2024-10-30T14:00:39.684228Z",
     "shell.execute_reply": "2024-10-30T14:00:39.683068Z"
    },
    "papermill": {
     "duration": 1.440807,
     "end_time": "2024-10-30T14:00:39.686831",
     "exception": false,
     "start_time": "2024-10-30T14:00:38.246024",
     "status": "completed"
    },
    "tags": []
   },
   "outputs": [
    {
     "name": "stdout",
     "output_type": "stream",
     "text": [
      "jan--------------\n",
      "  Supply Type  Invoice Number       Date Customer/supplier Name  \\\n",
      "0           S           123.0 2024-01-01                    ABC   \n",
      "1           S           456.0 2024-01-02                    DEF   \n",
      "2           S           789.0 2024-01-02                    DEF   \n",
      "3           S           123.0 2024-01-02                    ABC   \n",
      "4           S          1011.0 2024-01-03                    GHI   \n",
      "\n",
      "   Supply/Purchase Value   VAT Value   Invoice Value Recoverable    Box  \n",
      "0                    0.00        0.00           0.00           Y  Box A  \n",
      "1                    0.00        0.00           0.00           Y  Box A  \n",
      "2                    0.00        0.00           0.00           Y  Box A  \n",
      "3               440984.04    22049.20      463033.24           Y  Box A  \n",
      "4               576107.04    28805.35      604912.39           Y  Box A  \n",
      "feb--------------\n",
      "  Supply Type    #                 Date Recoverable Customer/supplier Name  \\\n",
      "0       Sales  871  2024-02-01 00:00:00           Y                    QAZ   \n",
      "1       Sales  591  2024-02-02 00:00:00           Y                    WSX   \n",
      "2       Sales  926  2024-02-02 00:00:00           Y                    DEF   \n",
      "3       Sales  941  2024-02-02 00:00:00           Y                    ABC   \n",
      "4       Sales   20  2024-02-03 00:00:00           Y                    GHI   \n",
      "\n",
      "        Net  Gross       Tax    Box  \n",
      "0  35992.00  35992      0.00  Box A  \n",
      "1  23876.00  23876      0.00  Box A  \n",
      "2  78038.00  78038      0.00  Box A  \n",
      "3  86869.20  64820  22049.20  Box A  \n",
      "4  86154.35  57349  28805.35  Box A  \n"
     ]
    }
   ],
   "source": [
    "# Define each tab sheet\n",
    "cleaned_df_jan = xls.parse('Jan')\n",
    "cleaned_df_feb = xls.parse('Feb', skiprows = 4)\n",
    "print(\"jan--------------\")\n",
    "print(cleaned_df_jan.head(5))\n",
    "print(\"feb--------------\")\n",
    "print(cleaned_df_feb.head(5))"
   ]
  },
  {
   "cell_type": "code",
   "execution_count": 6,
   "id": "fb4cd7b1",
   "metadata": {
    "execution": {
     "iopub.execute_input": "2024-10-30T14:00:39.705205Z",
     "iopub.status.busy": "2024-10-30T14:00:39.704799Z",
     "iopub.status.idle": "2024-10-30T14:00:39.744429Z",
     "shell.execute_reply": "2024-10-30T14:00:39.742943Z"
    },
    "papermill": {
     "duration": 0.053065,
     "end_time": "2024-10-30T14:00:39.748099",
     "exception": false,
     "start_time": "2024-10-30T14:00:39.695034",
     "status": "completed"
    },
    "tags": []
   },
   "outputs": [
    {
     "name": "stdout",
     "output_type": "stream",
     "text": [
      "   Supply Type  Invoice Number       Date Customer/supplier Name  \\\n",
      "0            S           123.0 2024-01-01                    ABC   \n",
      "1            S           456.0 2024-01-02                    DEF   \n",
      "2            S           789.0 2024-01-02                    DEF   \n",
      "3            S           123.0 2024-01-02                    ABC   \n",
      "4            S          1011.0 2024-01-03                    GHI   \n",
      "5            S          1213.0 2024-01-04                    ABC   \n",
      "6            S          1415.0 2024-01-05                    GHI   \n",
      "7            S          1013.0 2024-01-06                    GHI   \n",
      "8            S          1915.0 2024-01-07                    GHI   \n",
      "9            S          1512.0 2024-01-07                    ABC   \n",
      "10           S          6578.0 2024-01-08                    JKL   \n",
      "11           S          4953.0 2024-01-09                    JKL   \n",
      "12           S          6748.0 2024-01-10                    ABC   \n",
      "13           S           484.0 2024-01-11                    ABC   \n",
      "14           S          1734.0 2024-01-12                    ABC   \n",
      "15           S          7363.0 2024-01-13                    ABC   \n",
      "16           S          4452.0 2024-01-14                    ABC   \n",
      "17           S          3645.0 2024-01-15                    ABC   \n",
      "18           P          6347.0 2024-01-16                    QWE   \n",
      "19           P          2929.0 2024-01-17                    QWE   \n",
      "20           P          1234.0 2024-01-18                    POI   \n",
      "21           P         89898.0 2024-01-19                    POI   \n",
      "22           P        326835.0 2024-01-20                    ASD   \n",
      "23           P          9876.0 2024-01-21                    MLP   \n",
      "24           P          3456.0 2024-01-22                    MLP   \n",
      "25           P          8765.0 2024-01-23                    MLP   \n",
      "26           P          1678.0 2024-01-23                    MLP   \n",
      "27           P          4953.0 2024-01-23                    MLP   \n",
      "28           P          5678.0 2024-01-24                    MLP   \n",
      "29           P          6556.0 2024-01-24                    MLP   \n",
      "30           P          8907.0 2024-01-24                    MLP   \n",
      "31           P          2345.0 2024-01-24                    TYU   \n",
      "32           P          5677.0 2024-01-24                    TYU   \n",
      "33           P          7654.0 2024-01-25                    TYU   \n",
      "34           P          3456.0 2024-01-25                    TYU   \n",
      "35           P          8764.0 2024-01-26                    TYU   \n",
      "36           P          9876.0 2024-01-26                    TYU   \n",
      "37           P          4953.0 2024-01-26                    TYU   \n",
      "38           P          2345.0 2024-01-26                    TYU   \n",
      "39           P          4567.0 2024-01-26                    TYU   \n",
      "40           P          2327.0 2024-01-27                    TYU   \n",
      "41           P          5567.0 2024-01-27                    TYU   \n",
      "42           P           987.0 2024-01-27                    TYU   \n",
      "43           S           908.0 2024-01-28                    JKL   \n",
      "44           S          4953.0 2024-01-28                    MNO   \n",
      "45           S          2335.0 2024-01-28                    ABC   \n",
      "46           S          6754.0 2024-01-28                    ABC   \n",
      "47           S          8934.0 2024-01-29                    GHI   \n",
      "48           S          1934.0 2024-01-29                    JKL   \n",
      "49           S          9876.0 2024-01-30                    JKL   \n",
      "50           S          3456.0 2024-01-31                    JKL   \n",
      "\n",
      "    Supply/Purchase Value   VAT Value   Invoice Value Recoverable    Box  \n",
      "0                     0.00        0.00           0.00           Y  Box A  \n",
      "1                     0.00        0.00           0.00           Y  Box A  \n",
      "2                     0.00        0.00           0.00           Y  Box A  \n",
      "3                440984.04    22049.20      463033.24           Y  Box A  \n",
      "4                576107.04    28805.35      604912.39           Y  Box A  \n",
      "5                391717.57    19585.88      411303.45           Y  Box A  \n",
      "6                460916.83    23045.84      483962.67           Y  Box A  \n",
      "7                565614.00    28280.70      593894.70           Y  Box A  \n",
      "8               1173120.00    58656.00     1231776.00           Y  Box A  \n",
      "9                627493.68    31374.68      658868.36           Y  Box A  \n",
      "10                 2000.00      100.00        2100.00           Y  Box A  \n",
      "11                 1000.00       50.00        1050.00           Y  Box A  \n",
      "12                 1000.00       50.00        1050.00           Y  Box A  \n",
      "13                 1000.00       50.00        1050.00           Y  Box A  \n",
      "14                 1000.00        0.00        1000.00           Y  Box B  \n",
      "15                12660.69        0.00       12660.69           Y  Box B  \n",
      "16                 2619.04        0.00        2619.04           Y  Box B  \n",
      "17                10944.10        0.00       10944.10           Y  Box B  \n",
      "18                 3479.43      173.97        3653.40           Y  Box C  \n",
      "19                 5297.18      264.86        5562.04           Y  Box C  \n",
      "20                 5292.61      264.63        5557.24           N  Box C  \n",
      "21                 5212.04      260.60        5472.64           N  Box C  \n",
      "22                 5742.58      287.13        6029.71           N  Box C  \n",
      "23                 5669.34      283.47        5952.81           N  Box C  \n",
      "24                19369.14      968.46       20337.60           N  Box C  \n",
      "25                 5447.79      272.39        5720.18           N  Box C  \n",
      "26                 6761.55      338.08        7099.63           N  Box C  \n",
      "27                 4973.55      248.68        5222.23           N  Box C  \n",
      "28                 5039.92      252.00        5291.92           N  Box C  \n",
      "29                 6112.00      305.60        6417.60           N  Box C  \n",
      "30                 6336.30      316.81        6653.11           N  Box C  \n",
      "31                 7579.57      378.98        7958.55           N  Box C  \n",
      "32                 8976.65      448.83        9425.48           N  Box C  \n",
      "33                 8939.11      446.96        9386.07           N  Box C  \n",
      "34                13786.32      689.32       14475.64           N  Box C  \n",
      "35                12844.26      642.21       13486.47           N  Box C  \n",
      "36                 7502.21      375.11        7877.32           N  Box C  \n",
      "37                 6578.90      328.95        6907.85           N  Box C  \n",
      "38                 5931.64      296.58        6228.22           N  Box C  \n",
      "39                 5427.65      271.38        5699.03           N  Box C  \n",
      "40                 5900.97      295.05        6196.02           N  Box C  \n",
      "41                 5892.27      294.61        6186.88           P  Box C  \n",
      "42                 3711.50      185.58        3897.08           P  Box C  \n",
      "43                 5965.51      298.28        6263.79           Y  Box C  \n",
      "44                 7128.68      356.43        7485.11           Y  Box C  \n",
      "45                 3628.20      181.41        3809.61           Y  Box C  \n",
      "46                 7128.68      356.43        7485.11           Y  Box A  \n",
      "47                 4366.10      218.31        4584.41           Y  Box A  \n",
      "48                 6229.64      311.48        6541.12           Y  Box A  \n",
      "49                 5522.40      276.12        5798.52           Y  Box A  \n",
      "50                 4367.93        0.00        4367.93           Y  Box B  \n"
     ]
    }
   ],
   "source": [
    "#for Jan Data \n",
    "empty_rows_threshold = 1  # Change this number as needed based on your data\n",
    "\n",
    "# Check for consecutive empty rows\n",
    "empty_row_count = 0\n",
    "valid_data_rows = []\n",
    "\n",
    "for idx, row in cleaned_df_jan.iterrows():\n",
    "    if row.isnull().all():\n",
    "        empty_row_count += 1\n",
    "    else:\n",
    "        empty_row_count = 0\n",
    "\n",
    "    # If empty row count is less than threshold, consider it valid data\n",
    "    if empty_row_count < empty_rows_threshold:\n",
    "        valid_data_rows.append(row)\n",
    "    else:\n",
    "        # Stop reading further rows after threshold is reached\n",
    "        break\n",
    "\n",
    "# Create cleaned dataframe with valid data only\n",
    "cleaned_df_jan = pd.DataFrame(valid_data_rows)\n",
    "\n",
    "print(cleaned_df_jan)"
   ]
  },
  {
   "cell_type": "code",
   "execution_count": 7,
   "id": "84857f34",
   "metadata": {
    "execution": {
     "iopub.execute_input": "2024-10-30T14:00:39.768945Z",
     "iopub.status.busy": "2024-10-30T14:00:39.768485Z",
     "iopub.status.idle": "2024-10-30T14:00:39.776444Z",
     "shell.execute_reply": "2024-10-30T14:00:39.775226Z"
    },
    "papermill": {
     "duration": 0.022161,
     "end_time": "2024-10-30T14:00:39.779581",
     "exception": false,
     "start_time": "2024-10-30T14:00:39.757420",
     "status": "completed"
    },
    "tags": []
   },
   "outputs": [
    {
     "data": {
      "text/plain": [
       "51"
      ]
     },
     "execution_count": 7,
     "metadata": {},
     "output_type": "execute_result"
    }
   ],
   "source": [
    "df_non_empty = cleaned_df_jan.shape[0]\n",
    "df_non_empty"
   ]
  },
  {
   "cell_type": "code",
   "execution_count": 8,
   "id": "ae35d9ef",
   "metadata": {
    "execution": {
     "iopub.execute_input": "2024-10-30T14:00:39.799107Z",
     "iopub.status.busy": "2024-10-30T14:00:39.798655Z",
     "iopub.status.idle": "2024-10-30T14:00:39.804767Z",
     "shell.execute_reply": "2024-10-30T14:00:39.803653Z"
    },
    "papermill": {
     "duration": 0.019616,
     "end_time": "2024-10-30T14:00:39.808046",
     "exception": false,
     "start_time": "2024-10-30T14:00:39.788430",
     "status": "completed"
    },
    "tags": []
   },
   "outputs": [],
   "source": [
    "#removing last 2 rows data because they stores march month data values\n",
    "cleaned_df_feb = cleaned_df_feb[:-2]"
   ]
  },
  {
   "cell_type": "code",
   "execution_count": 9,
   "id": "feff72b8",
   "metadata": {
    "execution": {
     "iopub.execute_input": "2024-10-30T14:00:39.826928Z",
     "iopub.status.busy": "2024-10-30T14:00:39.826479Z",
     "iopub.status.idle": "2024-10-30T14:00:39.834875Z",
     "shell.execute_reply": "2024-10-30T14:00:39.833702Z"
    },
    "papermill": {
     "duration": 0.02047,
     "end_time": "2024-10-30T14:00:39.837067",
     "exception": false,
     "start_time": "2024-10-30T14:00:39.816597",
     "status": "completed"
    },
    "tags": []
   },
   "outputs": [
    {
     "name": "stdout",
     "output_type": "stream",
     "text": [
      "\n"
     ]
    },
    {
     "data": {
      "text/plain": [
       "Index(['Supply Type', '#', 'Date', 'Recoverable', 'Customer/supplier Name',\n",
       "       'Net', 'Gross', 'Tax', 'Box'],\n",
       "      dtype='object')"
      ]
     },
     "execution_count": 9,
     "metadata": {},
     "output_type": "execute_result"
    }
   ],
   "source": [
    "# Check the columns of both sheets to verify the structure \n",
    "jan_columns = cleaned_df_jan.columns\n",
    "feb_columns = cleaned_df_feb.columns\n",
    "\n",
    "jan_columns\n",
    "print()\n",
    "feb_columns\n",
    "#mismatch columnnames and their sequence"
   ]
  },
  {
   "cell_type": "code",
   "execution_count": 10,
   "id": "0530b6fd",
   "metadata": {
    "execution": {
     "iopub.execute_input": "2024-10-30T14:00:39.855835Z",
     "iopub.status.busy": "2024-10-30T14:00:39.854876Z",
     "iopub.status.idle": "2024-10-30T14:00:39.862956Z",
     "shell.execute_reply": "2024-10-30T14:00:39.861351Z"
    },
    "papermill": {
     "duration": 0.019722,
     "end_time": "2024-10-30T14:00:39.865143",
     "exception": false,
     "start_time": "2024-10-30T14:00:39.845421",
     "status": "completed"
    },
    "tags": []
   },
   "outputs": [
    {
     "name": "stdout",
     "output_type": "stream",
     "text": [
      "Supply Type               0\n",
      "Invoice Number            0\n",
      "Date                      0\n",
      "Customer/supplier Name    0\n",
      "Supply/Purchase Value     0\n",
      "VAT Value                 0\n",
      "Invoice Value             0\n",
      "Recoverable               0\n",
      "Box                       0\n",
      "dtype: int64\n"
     ]
    }
   ],
   "source": [
    "print(cleaned_df_jan.isnull().sum())"
   ]
  },
  {
   "cell_type": "code",
   "execution_count": 11,
   "id": "5ac2e658",
   "metadata": {
    "execution": {
     "iopub.execute_input": "2024-10-30T14:00:39.884281Z",
     "iopub.status.busy": "2024-10-30T14:00:39.883874Z",
     "iopub.status.idle": "2024-10-30T14:00:39.890841Z",
     "shell.execute_reply": "2024-10-30T14:00:39.889778Z"
    },
    "papermill": {
     "duration": 0.019389,
     "end_time": "2024-10-30T14:00:39.893078",
     "exception": false,
     "start_time": "2024-10-30T14:00:39.873689",
     "status": "completed"
    },
    "tags": []
   },
   "outputs": [],
   "source": [
    "#removed extra space in column names for Jan\n",
    "cleaned_df_jan.columns = cleaned_df_jan.columns.str.strip()\n",
    "\n",
    "#changed datetime format for jan \n",
    "cleaned_df_jan['Date'] = cleaned_df_jan['Date'].dt.strftime('%Y-%m-%d')"
   ]
  },
  {
   "cell_type": "code",
   "execution_count": 12,
   "id": "5f78ced6",
   "metadata": {
    "execution": {
     "iopub.execute_input": "2024-10-30T14:00:39.912384Z",
     "iopub.status.busy": "2024-10-30T14:00:39.911510Z",
     "iopub.status.idle": "2024-10-30T14:00:39.920330Z",
     "shell.execute_reply": "2024-10-30T14:00:39.919143Z"
    },
    "papermill": {
     "duration": 0.021125,
     "end_time": "2024-10-30T14:00:39.922697",
     "exception": false,
     "start_time": "2024-10-30T14:00:39.901572",
     "status": "completed"
    },
    "tags": []
   },
   "outputs": [
    {
     "data": {
      "text/plain": [
       "Index(['Supply Type', 'Invoice Number', 'Date', 'Recoverable',\n",
       "       'Customer/supplier Name', 'Supply/Purchase Value', 'Invoice Value',\n",
       "       'VAT Value', 'Box'],\n",
       "      dtype='object')"
      ]
     },
     "execution_count": 12,
     "metadata": {},
     "output_type": "execute_result"
    }
   ],
   "source": [
    "#renaming of February columns to get match with January's format\n",
    "cleaned_df_feb = cleaned_df_feb.rename(columns={ \n",
    "    'Net': 'Supply/Purchase Value',\n",
    "    'Tax': 'VAT Value',\n",
    "    'Gross': 'Invoice Value',\n",
    "    '#': 'Invoice Number'\n",
    "})\n",
    "\n",
    "cleaned_df_feb.columns"
   ]
  },
  {
   "cell_type": "code",
   "execution_count": 13,
   "id": "8234ca17",
   "metadata": {
    "execution": {
     "iopub.execute_input": "2024-10-30T14:00:39.941821Z",
     "iopub.status.busy": "2024-10-30T14:00:39.941460Z",
     "iopub.status.idle": "2024-10-30T14:00:39.952067Z",
     "shell.execute_reply": "2024-10-30T14:00:39.950940Z"
    },
    "papermill": {
     "duration": 0.022908,
     "end_time": "2024-10-30T14:00:39.954420",
     "exception": false,
     "start_time": "2024-10-30T14:00:39.931512",
     "status": "completed"
    },
    "tags": []
   },
   "outputs": [],
   "source": [
    "#column consistency/ aranged in a sequence\n",
    "cleaned_df_jan = cleaned_df_jan[['Supply Type', 'Invoice Number', 'Date', 'Customer/supplier Name',\n",
    "                 'Supply/Purchase Value', 'VAT Value', 'Invoice Value', 'Recoverable', 'Box']]\n",
    "\n",
    "cleaned_df_feb = cleaned_df_feb[['Supply Type', 'Invoice Number', 'Date', 'Customer/supplier Name', \n",
    "                 'Supply/Purchase Value', 'VAT Value', 'Invoice Value', 'Recoverable', 'Box']]"
   ]
  },
  {
   "cell_type": "code",
   "execution_count": 14,
   "id": "f2786c5e",
   "metadata": {
    "execution": {
     "iopub.execute_input": "2024-10-30T14:00:39.973452Z",
     "iopub.status.busy": "2024-10-30T14:00:39.973067Z",
     "iopub.status.idle": "2024-10-30T14:00:39.995303Z",
     "shell.execute_reply": "2024-10-30T14:00:39.994047Z"
    },
    "papermill": {
     "duration": 0.034467,
     "end_time": "2024-10-30T14:00:39.997659",
     "exception": false,
     "start_time": "2024-10-30T14:00:39.963192",
     "status": "completed"
    },
    "tags": []
   },
   "outputs": [
    {
     "name": "stdout",
     "output_type": "stream",
     "text": [
      "<class 'pandas.core.frame.DataFrame'>\n",
      "Index: 51 entries, 0 to 50\n",
      "Data columns (total 9 columns):\n",
      " #   Column                  Non-Null Count  Dtype  \n",
      "---  ------                  --------------  -----  \n",
      " 0   Supply Type             51 non-null     object \n",
      " 1   Invoice Number          51 non-null     float64\n",
      " 2   Date                    51 non-null     object \n",
      " 3   Customer/supplier Name  51 non-null     object \n",
      " 4   Supply/Purchase Value   51 non-null     float64\n",
      " 5   VAT Value               51 non-null     float64\n",
      " 6   Invoice Value           51 non-null     float64\n",
      " 7   Recoverable             51 non-null     object \n",
      " 8   Box                     51 non-null     object \n",
      "dtypes: float64(4), object(5)\n",
      "memory usage: 4.0+ KB\n"
     ]
    }
   ],
   "source": [
    "#validationg columns datatype for jan\n",
    "cleaned_df_jan.info()"
   ]
  },
  {
   "cell_type": "code",
   "execution_count": 15,
   "id": "49863f6e",
   "metadata": {
    "execution": {
     "iopub.execute_input": "2024-10-30T14:00:40.017079Z",
     "iopub.status.busy": "2024-10-30T14:00:40.016646Z",
     "iopub.status.idle": "2024-10-30T14:00:40.028446Z",
     "shell.execute_reply": "2024-10-30T14:00:40.027354Z"
    },
    "papermill": {
     "duration": 0.024616,
     "end_time": "2024-10-30T14:00:40.031075",
     "exception": false,
     "start_time": "2024-10-30T14:00:40.006459",
     "status": "completed"
    },
    "tags": []
   },
   "outputs": [
    {
     "name": "stdout",
     "output_type": "stream",
     "text": [
      "<class 'pandas.core.frame.DataFrame'>\n",
      "RangeIndex: 49 entries, 0 to 48\n",
      "Data columns (total 9 columns):\n",
      " #   Column                  Non-Null Count  Dtype  \n",
      "---  ------                  --------------  -----  \n",
      " 0   Supply Type             49 non-null     object \n",
      " 1   Invoice Number          49 non-null     int64  \n",
      " 2   Date                    49 non-null     object \n",
      " 3   Customer/supplier Name  49 non-null     object \n",
      " 4   Supply/Purchase Value   49 non-null     float64\n",
      " 5   VAT Value               49 non-null     float64\n",
      " 6   Invoice Value           49 non-null     int64  \n",
      " 7   Recoverable             49 non-null     object \n",
      " 8   Box                     49 non-null     object \n",
      "dtypes: float64(2), int64(2), object(5)\n",
      "memory usage: 3.6+ KB\n"
     ]
    }
   ],
   "source": [
    "#validationg columns datatype for feb\n",
    "cleaned_df_feb.info()\n",
    "#found incorrect datatypes of the columns"
   ]
  },
  {
   "cell_type": "code",
   "execution_count": 16,
   "id": "0fcf536c",
   "metadata": {
    "execution": {
     "iopub.execute_input": "2024-10-30T14:00:40.050362Z",
     "iopub.status.busy": "2024-10-30T14:00:40.049913Z",
     "iopub.status.idle": "2024-10-30T14:00:40.056974Z",
     "shell.execute_reply": "2024-10-30T14:00:40.055906Z"
    },
    "papermill": {
     "duration": 0.019211,
     "end_time": "2024-10-30T14:00:40.059111",
     "exception": false,
     "start_time": "2024-10-30T14:00:40.039900",
     "status": "completed"
    },
    "tags": []
   },
   "outputs": [],
   "source": [
    "#removing any non-numeric characters for invoice value column\n",
    "cleaned_df_feb['Invoice Value'] = (\n",
    "    cleaned_df_feb['Invoice Value']\n",
    "    .astype(str)                            # Convert to string\n",
    "    .str.replace('[\\$,]', '', regex=True)   # Remove dollar signs and commas\n",
    "    .astype(float)                          # Convert to float\n",
    ")"
   ]
  },
  {
   "cell_type": "code",
   "execution_count": 17,
   "id": "761e35a1",
   "metadata": {
    "execution": {
     "iopub.execute_input": "2024-10-30T14:00:40.079068Z",
     "iopub.status.busy": "2024-10-30T14:00:40.078633Z",
     "iopub.status.idle": "2024-10-30T14:00:40.095377Z",
     "shell.execute_reply": "2024-10-30T14:00:40.094079Z"
    },
    "papermill": {
     "duration": 0.030289,
     "end_time": "2024-10-30T14:00:40.098414",
     "exception": false,
     "start_time": "2024-10-30T14:00:40.068125",
     "status": "completed"
    },
    "tags": []
   },
   "outputs": [
    {
     "name": "stdout",
     "output_type": "stream",
     "text": [
      "Original 'Invoice Number' values:\n",
      "0    871\n",
      "1    591\n",
      "2    926\n",
      "3    941\n",
      "4     20\n",
      "5    742\n",
      "6    697\n",
      "7     10\n",
      "8    618\n",
      "9    328\n",
      "Name: Invoice Number, dtype: int64\n",
      "\n",
      "Converted 'Invoice Number' values (as float):\n",
      "0    871.0\n",
      "1    591.0\n",
      "2    926.0\n",
      "3    941.0\n",
      "4     20.0\n",
      "5    742.0\n",
      "6    697.0\n",
      "7     10.0\n",
      "8    618.0\n",
      "9    328.0\n",
      "Name: Invoice Number, dtype: float64\n",
      "\n",
      "NaN values in 'Invoice Number':\n",
      "0\n",
      "\n",
      "Non-numeric values in 'Invoice Number':\n",
      "Empty DataFrame\n",
      "Columns: [Supply Type, Invoice Number, Date, Customer/supplier Name, Supply/Purchase Value, VAT Value, Invoice Value, Recoverable, Box]\n",
      "Index: []\n"
     ]
    }
   ],
   "source": [
    "# Step 1: Check the original data\n",
    "print(\"Original 'Invoice Number' values:\")\n",
    "print(cleaned_df_feb['Invoice Number'].head(10))  # Preview the first 10 rows\n",
    "\n",
    "# Step 2: Convert column to string and clean data\n",
    "cleaned_df_feb['Invoice Number'] = (\n",
    "    cleaned_df_feb['Invoice Number']\n",
    "    .astype(str)                              # Ensure all values are strings\n",
    "    .str.replace(r'[\\$,]', '', regex=True)    # Remove dollar signs and commas\n",
    "    .str.replace(r'\\s+', '', regex=True)      # Remove all spaces\n",
    "    .replace('nan', '', regex=False)          # Handle 'nan' (from NaN conversion)\n",
    ")\n",
    "\n",
    "# Step 3: Convert to numeric (float) and coerce errors\n",
    "cleaned_df_feb['Invoice Number'] = pd.to_numeric(cleaned_df_feb['Invoice Number'], errors='coerce').astype(float)\n",
    "\n",
    "# Step 4: Check the result\n",
    "print(\"\\nConverted 'Invoice Number' values (as float):\")\n",
    "print(cleaned_df_feb['Invoice Number'].head(10))  # Preview the first 10 rows again\n",
    "print(\"\\nNaN values in 'Invoice Number':\")\n",
    "print(cleaned_df_feb['Invoice Number'].isnull().sum())  # Count NaN values\n",
    "\n",
    "# Step 5: Identify non-numeric values (if any)\n",
    "non_numeric_rows = cleaned_df_feb[\n",
    "    cleaned_df_feb['Invoice Number'].isnull() & \n",
    "    cleaned_df_feb['Invoice Number'].astype(str).str.contains(r'\\D', na=False)\n",
    "]\n",
    "print(\"\\nNon-numeric values in 'Invoice Number':\")\n",
    "print(non_numeric_rows)\n"
   ]
  },
  {
   "cell_type": "code",
   "execution_count": 18,
   "id": "4e939472",
   "metadata": {
    "execution": {
     "iopub.execute_input": "2024-10-30T14:00:40.118785Z",
     "iopub.status.busy": "2024-10-30T14:00:40.117665Z",
     "iopub.status.idle": "2024-10-30T14:00:40.137966Z",
     "shell.execute_reply": "2024-10-30T14:00:40.136934Z"
    },
    "papermill": {
     "duration": 0.033165,
     "end_time": "2024-10-30T14:00:40.140493",
     "exception": false,
     "start_time": "2024-10-30T14:00:40.107328",
     "status": "completed"
    },
    "tags": []
   },
   "outputs": [
    {
     "name": "stdout",
     "output_type": "stream",
     "text": [
      "Feb: --------------------\n",
      "<class 'pandas.core.frame.DataFrame'>\n",
      "RangeIndex: 49 entries, 0 to 48\n",
      "Data columns (total 9 columns):\n",
      " #   Column                  Non-Null Count  Dtype         \n",
      "---  ------                  --------------  -----         \n",
      " 0   Supply Type             49 non-null     object        \n",
      " 1   Invoice Number          49 non-null     float64       \n",
      " 2   Date                    49 non-null     datetime64[ns]\n",
      " 3   Customer/supplier Name  49 non-null     object        \n",
      " 4   Supply/Purchase Value   49 non-null     float64       \n",
      " 5   VAT Value               49 non-null     float64       \n",
      " 6   Invoice Value           49 non-null     float64       \n",
      " 7   Recoverable             49 non-null     object        \n",
      " 8   Box                     49 non-null     object        \n",
      "dtypes: datetime64[ns](1), float64(4), object(4)\n",
      "memory usage: 3.6+ KB\n",
      "None\n",
      "Jan: --------------------\n",
      "<class 'pandas.core.frame.DataFrame'>\n",
      "Index: 51 entries, 0 to 50\n",
      "Data columns (total 9 columns):\n",
      " #   Column                  Non-Null Count  Dtype  \n",
      "---  ------                  --------------  -----  \n",
      " 0   Supply Type             51 non-null     object \n",
      " 1   Invoice Number          51 non-null     float64\n",
      " 2   Date                    51 non-null     object \n",
      " 3   Customer/supplier Name  51 non-null     object \n",
      " 4   Supply/Purchase Value   51 non-null     float64\n",
      " 5   VAT Value               51 non-null     float64\n",
      " 6   Invoice Value           51 non-null     float64\n",
      " 7   Recoverable             51 non-null     object \n",
      " 8   Box                     51 non-null     object \n",
      "dtypes: float64(4), object(5)\n",
      "memory usage: 4.0+ KB\n",
      "None\n"
     ]
    }
   ],
   "source": [
    "#converting datatypes\n",
    "#cleaned_df_feb['Invoice Number'] = pd.to_numeric(cleaned_df_feb['Invoice Number'], errors='coerce') \n",
    "# did not work for Convertion to float64\n",
    "cleaned_df_feb['Date'] = pd.to_datetime(cleaned_df_feb['Date'], errors='coerce')                                   # Convert to datetime64[ns]\n",
    "cleaned_df_feb['Supply/Purchase Value'] = pd.to_numeric(cleaned_df_feb['Supply/Purchase Value'], errors='coerce')  # Convert to float64\n",
    "#cleaned_df_feb['Invoice Value'] = pd.to_numeric(cleaned_df_feb['Invoice Value'], errors='coerce')                   # Convert to float64\n",
    "\n",
    "#Verify datatypes \n",
    "print(\"Feb: --------------------\")\n",
    "print(cleaned_df_feb.info())\n",
    "print(\"Jan: --------------------\")\n",
    "print(cleaned_df_jan.info())"
   ]
  },
  {
   "cell_type": "code",
   "execution_count": 19,
   "id": "70245948",
   "metadata": {
    "execution": {
     "iopub.execute_input": "2024-10-30T14:00:40.160360Z",
     "iopub.status.busy": "2024-10-30T14:00:40.159926Z",
     "iopub.status.idle": "2024-10-30T14:00:40.174281Z",
     "shell.execute_reply": "2024-10-30T14:00:40.173079Z"
    },
    "papermill": {
     "duration": 0.02769,
     "end_time": "2024-10-30T14:00:40.177274",
     "exception": false,
     "start_time": "2024-10-30T14:00:40.149584",
     "status": "completed"
    },
    "tags": []
   },
   "outputs": [
    {
     "name": "stdout",
     "output_type": "stream",
     "text": [
      "   Supply Type  Invoice Number        Date Customer/supplier Name  \\\n",
      "39   Purchases            36.0  26/02/2024                    MNB   \n",
      "40   Purchases           881.0  27/02/2024                    VCX   \n",
      "41   Purchases           696.0  27/02/2024                    TYU   \n",
      "42   Purchases           355.0  27/02/2024                    TYU   \n",
      "43       Sales           370.0  28/02/2024                    ABC   \n",
      "44       Sales           284.0  28/02/2024                    ABC   \n",
      "45       Sales           122.0  28/02/2024                    ABC   \n",
      "46       Sales           935.0  28/02/2024                    ABC   \n",
      "47       Sales           665.0  29/02/2024                    STU   \n",
      "48       Sales           218.0  29/02/2024                    STU   \n",
      "\n",
      "    Supply/Purchase Value  VAT Value  Invoice Value Recoverable    Box  \n",
      "39               62793.38     271.38        62522.0           N  Box C  \n",
      "40               40365.05     295.05        40070.0           N  Box C  \n",
      "41               52807.61     294.61        52513.0           P  Box C  \n",
      "42               10600.00       0.00        10600.0           P  Box D  \n",
      "43               69932.28     298.28        69634.0           Y  Box C  \n",
      "44                7049.43     356.43         6693.0           Y  Box C  \n",
      "45                3248.41     181.41         3067.0           Y  Box C  \n",
      "46               44314.43     356.43        43958.0           Y  Box A  \n",
      "47               63217.31     218.31        62999.0           Y  Box A  \n",
      "48               90386.48     311.48        90075.0           Y  Box A  \n"
     ]
    }
   ],
   "source": [
    "#Date column format \n",
    "cleaned_df_feb['Date'] = pd.to_datetime(cleaned_df_feb['Date'], dayfirst=True, errors='coerce')\n",
    "cleaned_df_feb['Date'] = cleaned_df_feb['Date'].dt.strftime('%d/%m/%Y')\n",
    "\n",
    "print(cleaned_df_feb.tail(10))"
   ]
  },
  {
   "cell_type": "code",
   "execution_count": 20,
   "id": "9d2c2baa",
   "metadata": {
    "execution": {
     "iopub.execute_input": "2024-10-30T14:00:40.197783Z",
     "iopub.status.busy": "2024-10-30T14:00:40.196880Z",
     "iopub.status.idle": "2024-10-30T14:00:40.203188Z",
     "shell.execute_reply": "2024-10-30T14:00:40.202102Z"
    },
    "papermill": {
     "duration": 0.018775,
     "end_time": "2024-10-30T14:00:40.205308",
     "exception": false,
     "start_time": "2024-10-30T14:00:40.186533",
     "status": "completed"
    },
    "tags": []
   },
   "outputs": [],
   "source": [
    "#replacing Sales -> S and Purchaces -> P in supply type column to get match with Jan data\n",
    "cleaned_df_feb['Supply Type'] = cleaned_df_feb['Supply Type'].replace(\n",
    "    {'Sales': 'S', 'Purchases': 'P'}\n",
    ")"
   ]
  },
  {
   "cell_type": "code",
   "execution_count": 21,
   "id": "b43bab0d",
   "metadata": {
    "execution": {
     "iopub.execute_input": "2024-10-30T14:00:40.225420Z",
     "iopub.status.busy": "2024-10-30T14:00:40.225029Z",
     "iopub.status.idle": "2024-10-30T14:00:40.236769Z",
     "shell.execute_reply": "2024-10-30T14:00:40.235723Z"
    },
    "papermill": {
     "duration": 0.024578,
     "end_time": "2024-10-30T14:00:40.239085",
     "exception": false,
     "start_time": "2024-10-30T14:00:40.214507",
     "status": "completed"
    },
    "tags": []
   },
   "outputs": [
    {
     "name": "stdout",
     "output_type": "stream",
     "text": [
      "  Supply Type  Invoice Number        Date Customer/supplier Name  \\\n",
      "0           S           123.0  2024-01-01                    ABC   \n",
      "1           S           456.0  2024-01-02                    DEF   \n",
      "2           S           789.0  2024-01-02                    DEF   \n",
      "3           S           123.0  2024-01-02                    ABC   \n",
      "4           S          1011.0  2024-01-03                    GHI   \n",
      "5           S          1213.0  2024-01-04                    ABC   \n",
      "6           S          1415.0  2024-01-05                    GHI   \n",
      "7           S          1013.0  2024-01-06                    GHI   \n",
      "8           S          1915.0  2024-01-07                    GHI   \n",
      "9           S          1512.0  2024-01-07                    ABC   \n",
      "\n",
      "   Supply/Purchase Value  VAT Value  Invoice Value Recoverable    Box  \n",
      "0                   0.00       0.00           0.00           Y  Box A  \n",
      "1                   0.00       0.00           0.00           Y  Box A  \n",
      "2                   0.00       0.00           0.00           Y  Box A  \n",
      "3              440984.04   22049.20      463033.24           Y  Box A  \n",
      "4              576107.04   28805.35      604912.39           Y  Box A  \n",
      "5              391717.57   19585.88      411303.45           Y  Box A  \n",
      "6              460916.83   23045.84      483962.67           Y  Box A  \n",
      "7              565614.00   28280.70      593894.70           Y  Box A  \n",
      "8             1173120.00   58656.00     1231776.00           Y  Box A  \n",
      "9              627493.68   31374.68      658868.36           Y  Box A  \n",
      "\n"
     ]
    }
   ],
   "source": [
    "#validating Nan values\n",
    "print(cleaned_df_jan.head(10))\n",
    "print()\n"
   ]
  },
  {
   "cell_type": "code",
   "execution_count": 22,
   "id": "609029e9",
   "metadata": {
    "execution": {
     "iopub.execute_input": "2024-10-30T14:00:40.259658Z",
     "iopub.status.busy": "2024-10-30T14:00:40.258946Z",
     "iopub.status.idle": "2024-10-30T14:00:40.266274Z",
     "shell.execute_reply": "2024-10-30T14:00:40.265044Z"
    },
    "papermill": {
     "duration": 0.020362,
     "end_time": "2024-10-30T14:00:40.268744",
     "exception": false,
     "start_time": "2024-10-30T14:00:40.248382",
     "status": "completed"
    },
    "tags": []
   },
   "outputs": [
    {
     "name": "stdout",
     "output_type": "stream",
     "text": [
      "Supply Type               0\n",
      "Invoice Number            0\n",
      "Date                      0\n",
      "Customer/supplier Name    0\n",
      "Supply/Purchase Value     0\n",
      "VAT Value                 0\n",
      "Invoice Value             0\n",
      "Recoverable               0\n",
      "Box                       0\n",
      "dtype: int64\n"
     ]
    }
   ],
   "source": [
    "print(cleaned_df_jan.isnull().sum())"
   ]
  },
  {
   "cell_type": "code",
   "execution_count": 23,
   "id": "23ec96c3",
   "metadata": {
    "execution": {
     "iopub.execute_input": "2024-10-30T14:00:40.289074Z",
     "iopub.status.busy": "2024-10-30T14:00:40.288642Z",
     "iopub.status.idle": "2024-10-30T14:00:40.297286Z",
     "shell.execute_reply": "2024-10-30T14:00:40.295219Z"
    },
    "papermill": {
     "duration": 0.021255,
     "end_time": "2024-10-30T14:00:40.299416",
     "exception": false,
     "start_time": "2024-10-30T14:00:40.278161",
     "status": "completed"
    },
    "tags": []
   },
   "outputs": [
    {
     "name": "stdout",
     "output_type": "stream",
     "text": [
      "Supply Type               0\n",
      "Invoice Number            0\n",
      "Date                      0\n",
      "Customer/supplier Name    0\n",
      "Supply/Purchase Value     0\n",
      "VAT Value                 0\n",
      "Invoice Value             0\n",
      "Recoverable               0\n",
      "Box                       0\n",
      "dtype: int64\n"
     ]
    }
   ],
   "source": [
    "#validating Nan values\n",
    "\n",
    "print(cleaned_df_feb.isnull().sum())"
   ]
  },
  {
   "cell_type": "code",
   "execution_count": 24,
   "id": "d1204f2a",
   "metadata": {
    "execution": {
     "iopub.execute_input": "2024-10-30T14:00:40.320046Z",
     "iopub.status.busy": "2024-10-30T14:00:40.319603Z",
     "iopub.status.idle": "2024-10-30T14:00:40.328827Z",
     "shell.execute_reply": "2024-10-30T14:00:40.327974Z"
    },
    "papermill": {
     "duration": 0.02229,
     "end_time": "2024-10-30T14:00:40.331216",
     "exception": false,
     "start_time": "2024-10-30T14:00:40.308926",
     "status": "completed"
    },
    "tags": []
   },
   "outputs": [],
   "source": [
    "cleaned_df_jan_cleaned = cleaned_df_jan.drop_duplicates(keep=False)\n",
    "cleaned_df_feb_cleaned = cleaned_df_feb.drop_duplicates(keep=False)"
   ]
  },
  {
   "cell_type": "code",
   "execution_count": 25,
   "id": "01f5536a",
   "metadata": {
    "execution": {
     "iopub.execute_input": "2024-10-30T14:00:40.352245Z",
     "iopub.status.busy": "2024-10-30T14:00:40.351770Z",
     "iopub.status.idle": "2024-10-30T14:00:40.860012Z",
     "shell.execute_reply": "2024-10-30T14:00:40.858711Z"
    },
    "papermill": {
     "duration": 0.522135,
     "end_time": "2024-10-30T14:00:40.862778",
     "exception": false,
     "start_time": "2024-10-30T14:00:40.340643",
     "status": "completed"
    },
    "tags": []
   },
   "outputs": [],
   "source": [
    "combined_cleaned = pd.merge(cleaned_df_jan_cleaned, cleaned_df_feb_cleaned, on='Box', how='outer', suffixes=('_Jan', '_Feb'))\n",
    "\n",
    "combined_cleaned.to_excel('cleaned_data.xlsx', index=False)"
   ]
  },
  {
   "cell_type": "code",
   "execution_count": 26,
   "id": "dc1e263b",
   "metadata": {
    "execution": {
     "iopub.execute_input": "2024-10-30T14:00:40.885673Z",
     "iopub.status.busy": "2024-10-30T14:00:40.884610Z",
     "iopub.status.idle": "2024-10-30T14:00:40.911937Z",
     "shell.execute_reply": "2024-10-30T14:00:40.910673Z"
    },
    "papermill": {
     "duration": 0.041612,
     "end_time": "2024-10-30T14:00:40.914538",
     "exception": false,
     "start_time": "2024-10-30T14:00:40.872926",
     "status": "completed"
    },
    "tags": []
   },
   "outputs": [],
   "source": [
    "#aggregating columns to get total sales for each month and purchase sales by box\n",
    "jan_summary = cleaned_df_jan_cleaned.groupby('Box').agg(\n",
    "    Total_Supply_Purchase_Value=('Supply/Purchase Value', 'sum'),\n",
    "    Total_VAT_Value=('VAT Value', 'sum'),\n",
    "    Total_Invoice_Value=('Invoice Value', 'sum')\n",
    ").reset_index()\n",
    "\n",
    "feb_summary = cleaned_df_feb_cleaned.groupby('Box').agg(\n",
    "    Total_Supply_Purchase_Value=('Supply/Purchase Value', 'sum'),\n",
    "    Total_VAT_Value=('VAT Value', 'sum'),\n",
    "    Total_Invoice_Value=('Invoice Value', 'sum')\n",
    ").reset_index()"
   ]
  },
  {
   "cell_type": "code",
   "execution_count": 27,
   "id": "fbd9681a",
   "metadata": {
    "execution": {
     "iopub.execute_input": "2024-10-30T14:00:40.935547Z",
     "iopub.status.busy": "2024-10-30T14:00:40.934764Z",
     "iopub.status.idle": "2024-10-30T14:00:40.959716Z",
     "shell.execute_reply": "2024-10-30T14:00:40.958752Z"
    },
    "papermill": {
     "duration": 0.038518,
     "end_time": "2024-10-30T14:00:40.962395",
     "exception": false,
     "start_time": "2024-10-30T14:00:40.923877",
     "status": "completed"
    },
    "tags": []
   },
   "outputs": [],
   "source": [
    "#combined both result and store in a excel sheet\n",
    "combined_summary = pd.merge(jan_summary, feb_summary, on='Box', how='outer', suffixes=('_Jan', '_Feb'))\n",
    "\n",
    "combined_summary.to_excel(\"VAT_Summary.xlsx\", index=False)\n"
   ]
  },
  {
   "cell_type": "code",
   "execution_count": 28,
   "id": "2c30e85c",
   "metadata": {
    "execution": {
     "iopub.execute_input": "2024-10-30T14:00:40.983073Z",
     "iopub.status.busy": "2024-10-30T14:00:40.982657Z",
     "iopub.status.idle": "2024-10-30T14:00:41.002707Z",
     "shell.execute_reply": "2024-10-30T14:00:41.001571Z"
    },
    "papermill": {
     "duration": 0.033462,
     "end_time": "2024-10-30T14:00:41.005385",
     "exception": false,
     "start_time": "2024-10-30T14:00:40.971923",
     "status": "completed"
    },
    "tags": []
   },
   "outputs": [
    {
     "name": "stdout",
     "output_type": "stream",
     "text": [
      "     Box  Total_Supply_Purchase_Value_Jan  Total_VAT_Value_Jan  \\\n",
      "0  Box A                       4264199.98            213209.99   \n",
      "1  Box B                         31591.76                 0.00   \n",
      "2  Box C                        194526.87              9726.36   \n",
      "3  Box D                              NaN                  NaN   \n",
      "\n",
      "   Total_Invoice_Value_Jan  Total_Supply_Purchase_Value_Feb  \\\n",
      "0               4477409.97                       1023083.17   \n",
      "1                 31591.76                        200114.25   \n",
      "2                204253.23                       1348895.15   \n",
      "3                      NaN                         10600.00   \n",
      "\n",
      "   Total_VAT_Value_Feb  Total_Invoice_Value_Feb  \n",
      "0            212933.87                   838430  \n",
      "1              2409.25                   197705  \n",
      "2              9540.78                  1339619  \n",
      "3                 0.00                    10600  \n",
      "\n"
     ]
    }
   ],
   "source": [
    "#reading output file\n",
    "final = pd.read_excel('VAT_Summary.xlsx')\n",
    "print(final.head())\n",
    "print()"
   ]
  },
  {
   "cell_type": "code",
   "execution_count": 29,
   "id": "51da2696",
   "metadata": {
    "execution": {
     "iopub.execute_input": "2024-10-30T14:00:41.026737Z",
     "iopub.status.busy": "2024-10-30T14:00:41.025630Z",
     "iopub.status.idle": "2024-10-30T14:00:41.032430Z",
     "shell.execute_reply": "2024-10-30T14:00:41.031323Z"
    },
    "papermill": {
     "duration": 0.019993,
     "end_time": "2024-10-30T14:00:41.034829",
     "exception": false,
     "start_time": "2024-10-30T14:00:41.014836",
     "status": "completed"
    },
    "tags": []
   },
   "outputs": [
    {
     "name": "stdout",
     "output_type": "stream",
     "text": [
      "Box                                0\n",
      "Total_Supply_Purchase_Value_Jan    1\n",
      "Total_VAT_Value_Jan                1\n",
      "Total_Invoice_Value_Jan            1\n",
      "Total_Supply_Purchase_Value_Feb    0\n",
      "Total_VAT_Value_Feb                0\n",
      "Total_Invoice_Value_Feb            0\n",
      "dtype: int64\n"
     ]
    }
   ],
   "source": [
    "#checks null values\n",
    "print(final.isnull().sum())"
   ]
  },
  {
   "cell_type": "code",
   "execution_count": 30,
   "id": "5551a215",
   "metadata": {
    "execution": {
     "iopub.execute_input": "2024-10-30T14:00:41.055766Z",
     "iopub.status.busy": "2024-10-30T14:00:41.054932Z",
     "iopub.status.idle": "2024-10-30T14:00:41.071506Z",
     "shell.execute_reply": "2024-10-30T14:00:41.070249Z"
    },
    "papermill": {
     "duration": 0.029666,
     "end_time": "2024-10-30T14:00:41.073950",
     "exception": false,
     "start_time": "2024-10-30T14:00:41.044284",
     "status": "completed"
    },
    "tags": []
   },
   "outputs": [
    {
     "data": {
      "text/html": [
       "<div>\n",
       "<style scoped>\n",
       "    .dataframe tbody tr th:only-of-type {\n",
       "        vertical-align: middle;\n",
       "    }\n",
       "\n",
       "    .dataframe tbody tr th {\n",
       "        vertical-align: top;\n",
       "    }\n",
       "\n",
       "    .dataframe thead th {\n",
       "        text-align: right;\n",
       "    }\n",
       "</style>\n",
       "<table border=\"1\" class=\"dataframe\">\n",
       "  <thead>\n",
       "    <tr style=\"text-align: right;\">\n",
       "      <th></th>\n",
       "      <th>Box</th>\n",
       "      <th>Total_Supply_Purchase_Value_Jan</th>\n",
       "      <th>Total_VAT_Value_Jan</th>\n",
       "      <th>Total_Invoice_Value_Jan</th>\n",
       "      <th>Total_Supply_Purchase_Value_Feb</th>\n",
       "      <th>Total_VAT_Value_Feb</th>\n",
       "      <th>Total_Invoice_Value_Feb</th>\n",
       "    </tr>\n",
       "  </thead>\n",
       "  <tbody>\n",
       "    <tr>\n",
       "      <th>0</th>\n",
       "      <td>Box A</td>\n",
       "      <td>4264199.98</td>\n",
       "      <td>213209.99</td>\n",
       "      <td>4477409.97</td>\n",
       "      <td>1023083.17</td>\n",
       "      <td>212933.87</td>\n",
       "      <td>838430</td>\n",
       "    </tr>\n",
       "    <tr>\n",
       "      <th>1</th>\n",
       "      <td>Box B</td>\n",
       "      <td>31591.76</td>\n",
       "      <td>0.00</td>\n",
       "      <td>31591.76</td>\n",
       "      <td>200114.25</td>\n",
       "      <td>2409.25</td>\n",
       "      <td>197705</td>\n",
       "    </tr>\n",
       "    <tr>\n",
       "      <th>2</th>\n",
       "      <td>Box C</td>\n",
       "      <td>194526.87</td>\n",
       "      <td>9726.36</td>\n",
       "      <td>204253.23</td>\n",
       "      <td>1348895.15</td>\n",
       "      <td>9540.78</td>\n",
       "      <td>1339619</td>\n",
       "    </tr>\n",
       "    <tr>\n",
       "      <th>3</th>\n",
       "      <td>Box D</td>\n",
       "      <td>0.00</td>\n",
       "      <td>0.00</td>\n",
       "      <td>0.00</td>\n",
       "      <td>10600.00</td>\n",
       "      <td>0.00</td>\n",
       "      <td>10600</td>\n",
       "    </tr>\n",
       "  </tbody>\n",
       "</table>\n",
       "</div>"
      ],
      "text/plain": [
       "     Box  Total_Supply_Purchase_Value_Jan  Total_VAT_Value_Jan  \\\n",
       "0  Box A                       4264199.98            213209.99   \n",
       "1  Box B                         31591.76                 0.00   \n",
       "2  Box C                        194526.87              9726.36   \n",
       "3  Box D                             0.00                 0.00   \n",
       "\n",
       "   Total_Invoice_Value_Jan  Total_Supply_Purchase_Value_Feb  \\\n",
       "0               4477409.97                       1023083.17   \n",
       "1                 31591.76                        200114.25   \n",
       "2                204253.23                       1348895.15   \n",
       "3                     0.00                         10600.00   \n",
       "\n",
       "   Total_VAT_Value_Feb  Total_Invoice_Value_Feb  \n",
       "0            212933.87                   838430  \n",
       "1              2409.25                   197705  \n",
       "2              9540.78                  1339619  \n",
       "3                 0.00                    10600  "
      ]
     },
     "execution_count": 30,
     "metadata": {},
     "output_type": "execute_result"
    }
   ],
   "source": [
    "#replace null with 0\n",
    "final.fillna(0, inplace=True)\n",
    "final"
   ]
  },
  {
   "cell_type": "code",
   "execution_count": 31,
   "id": "227eea87",
   "metadata": {
    "execution": {
     "iopub.execute_input": "2024-10-30T14:00:41.095450Z",
     "iopub.status.busy": "2024-10-30T14:00:41.095015Z",
     "iopub.status.idle": "2024-10-30T14:00:41.101916Z",
     "shell.execute_reply": "2024-10-30T14:00:41.100804Z"
    },
    "papermill": {
     "duration": 0.021108,
     "end_time": "2024-10-30T14:00:41.104891",
     "exception": false,
     "start_time": "2024-10-30T14:00:41.083783",
     "status": "completed"
    },
    "tags": []
   },
   "outputs": [
    {
     "name": "stdout",
     "output_type": "stream",
     "text": [
      "Box                                0\n",
      "Total_Supply_Purchase_Value_Jan    0\n",
      "Total_VAT_Value_Jan                0\n",
      "Total_Invoice_Value_Jan            0\n",
      "Total_Supply_Purchase_Value_Feb    0\n",
      "Total_VAT_Value_Feb                0\n",
      "Total_Invoice_Value_Feb            0\n",
      "dtype: int64\n"
     ]
    }
   ],
   "source": [
    "#validation after replacement\n",
    "print(final.isnull().sum())"
   ]
  },
  {
   "cell_type": "code",
   "execution_count": 32,
   "id": "69fdfade",
   "metadata": {
    "execution": {
     "iopub.execute_input": "2024-10-30T14:00:41.126368Z",
     "iopub.status.busy": "2024-10-30T14:00:41.125972Z",
     "iopub.status.idle": "2024-10-30T14:00:41.869166Z",
     "shell.execute_reply": "2024-10-30T14:00:41.867678Z"
    },
    "papermill": {
     "duration": 0.756959,
     "end_time": "2024-10-30T14:00:41.871774",
     "exception": false,
     "start_time": "2024-10-30T14:00:41.114815",
     "status": "completed"
    },
    "tags": []
   },
   "outputs": [
    {
     "data": {
      "image/png": "[encoded data removed]",
      "text/plain": [
       "<Figure size 1400x1000 with 2 Axes>"
      ]
     },
     "metadata": {},
     "output_type": "display_data"
    }
   ],
   "source": [
    "import matplotlib.pyplot as plt\n",
    "\n",
    "# Plotting the comparison visualizations for January and February\n",
    "fig, axes = plt.subplots(2, 1, figsize=(14, 10))\n",
    "\n",
    "# Plot 1: Total Supply/Purchase Value comparison\n",
    "final.plot(x='Box', \n",
    "           y=['Total_Supply_Purchase_Value_Jan', 'Total_Supply_Purchase_Value_Feb'], \n",
    "           kind='bar', ax=axes[0], color=['skyblue', 'orange'])\n",
    "axes[0].set_title('Total Supply/Purchase Value Comparison (Jan vs Feb)')\n",
    "axes[0].set_ylabel('Supply/Purchase Value')\n",
    "axes[0].legend(['January', 'February'])\n",
    "\n",
    "# Set y-axis limits for the first plot\n",
    "axes[0].set_ylim(5000, 5000000)\n",
    "\n",
    "# Remove numeric ticks on the x-axis and set categorical labels\n",
    "axes[0].set_xticklabels(final['Box'], rotation=45)\n",
    "\n",
    "# Adding data labels for the first plot (Total Supply/Purchase Value)\n",
    "for i, (v_jan, v_feb) in enumerate(zip(final['Total_Supply_Purchase_Value_Jan'], final['Total_Supply_Purchase_Value_Feb'])):\n",
    "    axes[0].text(i - 0.15, v_jan + 50000, f\"{v_jan:,.2f}\", ha='center', color='black')\n",
    "    axes[0].text(i + 0.15, v_feb + 50000, f\"{v_feb:,.2f}\", ha='center', color='black')\n",
    "\n",
    "# Plot 2: Total Invoice Value comparison\n",
    "final.plot(x='Box', \n",
    "           y=['Total_Invoice_Value_Jan', 'Total_Invoice_Value_Feb'], \n",
    "           kind='bar', ax=axes[1], color=['green', 'red'])\n",
    "axes[1].set_title('Total Invoice Value Comparison (Jan vs Feb)')\n",
    "axes[1].set_ylabel('Invoice Value')\n",
    "axes[1].legend(['January', 'February'])\n",
    "\n",
    "# Set y-axis limits for the second plot\n",
    "axes[1].set_ylim(5000, 5000000)\n",
    "\n",
    "# Remove numeric ticks on the x-axis and set categorical labels\n",
    "axes[1].set_xticklabels(final['Box'], rotation=45)\n",
    "\n",
    "# Adding data labels for the second plot (Total Invoice Value)\n",
    "for i, (v_jan, v_feb) in enumerate(zip(final['Total_Invoice_Value_Jan'], final['Total_Invoice_Value_Feb'])):\n",
    "    axes[1].text(i - 0.15, v_jan + 50000, f\"{v_jan:,.2f}\", ha='center', color='black')\n",
    "    axes[1].text(i + 0.15, v_feb + 50000, f\"{v_feb:,.2f}\", ha='center', color='black')\n",
    "\n",
    "# Adjust layout and display the plots\n",
    "plt.tight_layout()\n",
    "plt.show()\n"
   ]
  }
 ],
 "metadata": {
  "kaggle": {
   "accelerator": "none",
   "dataSources": [
    {
     "datasetId": 5905517,
     "sourceId": 9665186,
     "sourceType": "datasetVersion"
    }
   ],
   "dockerImageVersionId": 30786,
   "isGpuEnabled": false,
   "isInternetEnabled": false,
   "language": "python",
   "sourceType": "notebook"
  },
  "kernelspec": {
   "display_name": "Python 3",
   "language": "python",
   "name": "python3"
  },
  "language_info": {
   "codemirror_mode": {
    "name": "ipython",
    "version": 3
   },
   "file_extension": ".py",
   "mimetype": "text/x-python",
   "name": "python",
   "nbconvert_exporter": "python",
   "pygments_lexer": "ipython3",
   "version": "3.10.14"
  },
  "papermill": {
   "default_parameters": {},
   "duration": 11.654063,
   "end_time": "2024-10-30T14:00:42.604108",
   "environment_variables": {},
   "exception": null,
   "input_path": "__notebook__.ipynb",
   "output_path": "__notebook__.ipynb",
   "parameters": {},
   "start_time": "2024-10-30T14:00:30.950045",
   "version": "2.6.0"
  }
 },
 "nbformat": 4,
 "nbformat_minor": 5
}
